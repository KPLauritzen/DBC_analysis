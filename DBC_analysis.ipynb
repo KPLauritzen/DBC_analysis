{
 "cells": [
  {
   "cell_type": "markdown",
   "metadata": {},
   "source": [
    "# Danish Library Exploratory Analysis\n",
    "By Kasper Primdal Lauritzen\n",
    "\n",
    "Data from [DBC](http://www.dbc.dk/news/hack-dbcs-data)"
   ]
  },
  {
   "cell_type": "code",
   "execution_count": 98,
   "metadata": {
    "collapsed": false
   },
   "outputs": [],
   "source": [
    "import numpy as np\n",
    "import pandas as pd\n",
    "import matplotlib.pyplot as plt\n",
    "%matplotlib inline"
   ]
  },
  {
   "cell_type": "markdown",
   "metadata": {},
   "source": [
    "I want to read a rather large data set, but the exploratory analysis is better done on a small subset of the full data set. We'll use 1000000 records of the full set initially"
   ]
  },
  {
   "cell_type": "code",
   "execution_count": 99,
   "metadata": {
    "collapsed": false
   },
   "outputs": [],
   "source": [
    "cols = [\"user_id\", \"library_id\", \"material_id\", \"gender\", \"birth_year\", \"date\"]\n",
    "small_lending = pd.read_csv(\"udlånsdata.csv.gz\", parse_dates=[4, 5],\n",
    "                            na_values=\"\", names=cols, header=0, nrows=100000)"
   ]
  },
  {
   "cell_type": "code",
   "execution_count": 100,
   "metadata": {
    "collapsed": true
   },
   "outputs": [],
   "source": [
    "lending = pd.read_csv(\"udlånsdata.csv.gz\", parse_dates=[4, 5],\n",
    "                            na_values=\"\", names=cols, header=0)\n",
    "small_lending = lending"
   ]
  },
  {
   "cell_type": "code",
   "execution_count": 101,
   "metadata": {
    "collapsed": false
   },
   "outputs": [],
   "source": [
    "materials = pd.read_csv(\"materialedata.csv.gz\", na_values=\"\", dtype=str,\n",
    "                       index_col='materiale_id')"
   ]
  },
  {
   "cell_type": "markdown",
   "metadata": {},
   "source": [
    "So how does this look?"
   ]
  },
  {
   "cell_type": "code",
   "execution_count": null,
   "metadata": {
    "collapsed": false
   },
   "outputs": [],
   "source": [
    "print small_lending.head()\n",
    "print materials.head()"
   ]
  },
  {
   "cell_type": "markdown",
   "metadata": {},
   "source": [
    "Translation note: `k` == female, `m` == male.\n",
    "\n",
    "\n",
    "Lets get the age of each user at the time of the recording. Pandas uses timedelta"
   ]
  },
  {
   "cell_type": "code",
   "execution_count": 103,
   "metadata": {
    "collapsed": false
   },
   "outputs": [],
   "source": [
    "age_in_days = small_lending.date - small_lending.birth_year\n",
    "age_in_years = age_in_days.apply(lambda x: round(x / np.timedelta64(365, 'D')))\n",
    "small_lending['age'] = age_in_years"
   ]
  },
  {
   "cell_type": "markdown",
   "metadata": {},
   "source": [
    "We can also check add a small function that calculates the age bracket of the user for each lending event"
   ]
  },
  {
   "cell_type": "code",
   "execution_count": 104,
   "metadata": {
    "collapsed": false
   },
   "outputs": [
    {
     "name": "stdout",
     "output_type": "stream",
     "text": [
      "<class 'pandas.core.frame.DataFrame'>\n",
      "Int64Index: 59453766 entries, 0 to 59453765\n",
      "Data columns (total 8 columns):\n",
      "user_id        int64\n",
      "library_id     int64\n",
      "material_id    object\n",
      "gender         object\n",
      "birth_year     datetime64[ns]\n",
      "date           datetime64[ns]\n",
      "age            float64\n",
      "age_decade     float64\n",
      "dtypes: datetime64[ns](2), float64(2), int64(2), object(2)\n",
      "memory usage: 4.0+ GB\n"
     ]
    }
   ],
   "source": [
    "def add_decade(age):\n",
    "    return age // 10 * 10\n",
    "small_lending['age_decade'] = small_lending.age.apply(add_decade)\n",
    "small_lending.info()"
   ]
  },
  {
   "cell_type": "code",
   "execution_count": 105,
   "metadata": {
    "collapsed": false
   },
   "outputs": [
    {
     "data": {
      "text/html": [
       "<div>\n",
       "<table border=\"1\" class=\"dataframe\">\n",
       "  <thead>\n",
       "    <tr style=\"text-align: right;\">\n",
       "      <th></th>\n",
       "      <th>user_id</th>\n",
       "      <th>library_id</th>\n",
       "      <th>material_id</th>\n",
       "      <th>gender</th>\n",
       "      <th>birth_year</th>\n",
       "      <th>date</th>\n",
       "      <th>age</th>\n",
       "      <th>age_decade</th>\n",
       "    </tr>\n",
       "  </thead>\n",
       "  <tbody>\n",
       "    <tr>\n",
       "      <th>0</th>\n",
       "      <td>1</td>\n",
       "      <td>830060</td>\n",
       "      <td>870970-basis:27094783</td>\n",
       "      <td>k</td>\n",
       "      <td>1994-01-01</td>\n",
       "      <td>2015-03-05</td>\n",
       "      <td>21</td>\n",
       "      <td>20</td>\n",
       "    </tr>\n",
       "    <tr>\n",
       "      <th>1</th>\n",
       "      <td>2</td>\n",
       "      <td>830060</td>\n",
       "      <td>870970-basis:26338948</td>\n",
       "      <td>k</td>\n",
       "      <td>1989-01-01</td>\n",
       "      <td>2015-02-17</td>\n",
       "      <td>26</td>\n",
       "      <td>20</td>\n",
       "    </tr>\n",
       "    <tr>\n",
       "      <th>2</th>\n",
       "      <td>3</td>\n",
       "      <td>830060</td>\n",
       "      <td>870970-basis:29819084</td>\n",
       "      <td>k</td>\n",
       "      <td>1992-01-01</td>\n",
       "      <td>2015-03-10</td>\n",
       "      <td>23</td>\n",
       "      <td>20</td>\n",
       "    </tr>\n",
       "    <tr>\n",
       "      <th>3</th>\n",
       "      <td>4</td>\n",
       "      <td>830060</td>\n",
       "      <td>870970-basis:24417468</td>\n",
       "      <td>k</td>\n",
       "      <td>1985-01-01</td>\n",
       "      <td>2015-02-18</td>\n",
       "      <td>30</td>\n",
       "      <td>30</td>\n",
       "    </tr>\n",
       "    <tr>\n",
       "      <th>4</th>\n",
       "      <td>5</td>\n",
       "      <td>830060</td>\n",
       "      <td>870970-basis:27435777</td>\n",
       "      <td>k</td>\n",
       "      <td>1980-01-01</td>\n",
       "      <td>2015-03-12</td>\n",
       "      <td>35</td>\n",
       "      <td>30</td>\n",
       "    </tr>\n",
       "  </tbody>\n",
       "</table>\n",
       "</div>"
      ],
      "text/plain": [
       "   user_id  library_id            material_id gender birth_year       date  \\\n",
       "0        1      830060  870970-basis:27094783      k 1994-01-01 2015-03-05   \n",
       "1        2      830060  870970-basis:26338948      k 1989-01-01 2015-02-17   \n",
       "2        3      830060  870970-basis:29819084      k 1992-01-01 2015-03-10   \n",
       "3        4      830060  870970-basis:24417468      k 1985-01-01 2015-02-18   \n",
       "4        5      830060  870970-basis:27435777      k 1980-01-01 2015-03-12   \n",
       "\n",
       "   age  age_decade  \n",
       "0   21          20  \n",
       "1   26          20  \n",
       "2   23          20  \n",
       "3   30          30  \n",
       "4   35          30  "
      ]
     },
     "execution_count": 105,
     "metadata": {},
     "output_type": "execute_result"
    }
   ],
   "source": [
    "small_lending.head()"
   ]
  },
  {
   "cell_type": "markdown",
   "metadata": {},
   "source": [
    "# Gender differences\n",
    "\n",
    "OK, lets do some summary statistics on this. We'll group it by gender and age, and see how many transactions was made for each of these combinations."
   ]
  },
  {
   "cell_type": "code",
   "execution_count": 106,
   "metadata": {
    "collapsed": false
   },
   "outputs": [
    {
     "data": {
      "text/plain": [
       "<matplotlib.text.Text at 0x822ccc310>"
      ]
     },
     "execution_count": 106,
     "metadata": {},
     "output_type": "execute_result"
    },
    {
     "data": {
      "image/png": "[encoded data removed]",
      "text/plain": [
       "<matplotlib.figure.Figure at 0x114faddd0>"
      ]
     },
     "metadata": {},
     "output_type": "display_data"
    }
   ],
   "source": [
    "age_gender = pd.crosstab( small_lending.age, small_lending.gender)\n",
    "ax = age_gender.plot()\n",
    "ax.set_ylabel(\"Counts\")"
   ]
  },
  {
   "cell_type": "markdown",
   "metadata": {},
   "source": [
    "Let's look at the relative frequencies by age."
   ]
  },
  {
   "cell_type": "code",
   "execution_count": 107,
   "metadata": {
    "collapsed": false
   },
   "outputs": [
    {
     "data": {
      "text/plain": [
       "<matplotlib.text.Text at 0x1174cbd90>"
      ]
     },
     "execution_count": 107,
     "metadata": {},
     "output_type": "execute_result"
    },
    {
     "data": {
      "image/png": "[encoded data removed]",
      "text/plain": [
       "<matplotlib.figure.Figure at 0x31481ab50>"
      ]
     },
     "metadata": {},
     "output_type": "display_data"
    }
   ],
   "source": [
    "age_gender_pct = age_gender.div(age_gender.sum(0))\n",
    "ax = age_gender_pct.plot()\n",
    "ax.set_ylabel(\"Frequency\")"
   ]
  },
  {
   "cell_type": "markdown",
   "metadata": {},
   "source": [
    "From the figure with absolute counts we can see that after around age 10, women are more likely to use the library (or at least to take out more books) than men. "
   ]
  },
  {
   "cell_type": "markdown",
   "metadata": {},
   "source": [
    "# Most popular books"
   ]
  },
  {
   "cell_type": "code",
   "execution_count": 108,
   "metadata": {
    "collapsed": false
   },
   "outputs": [],
   "source": [
    "total_records = float(small_lending.count().user_id)\n",
    "counts = small_lending['material_id'].value_counts()\n",
    "# Here we have to get the data into the right format to merge\n",
    "# into materials. That is, both should be pd.DataFrame, and the indicies\n",
    "# should match up.\n",
    "counts = pd.Series(counts, name='counts')\n",
    "counts_df = pd.DataFrame(counts)\n",
    "counts_df.index.name = 'material_id'\n",
    "# Now concatenate the two\n",
    "materials = pd.concat([materials, counts_df], axis=1)"
   ]
  },
  {
   "cell_type": "markdown",
   "metadata": {},
   "source": [
    "Sort by most popular"
   ]
  },
  {
   "cell_type": "code",
   "execution_count": 109,
   "metadata": {
    "collapsed": false
   },
   "outputs": [],
   "source": [
    "materials.sort_values(inplace=True, ascending=False, by='counts')"
   ]
  },
  {
   "cell_type": "code",
   "execution_count": 110,
   "metadata": {
    "collapsed": false
   },
   "outputs": [
    {
     "data": {
      "text/html": [
       "<div>\n",
       "<table border=\"1\" class=\"dataframe\">\n",
       "  <thead>\n",
       "    <tr style=\"text-align: right;\">\n",
       "      <th></th>\n",
       "      <th>dk5</th>\n",
       "      <th>description</th>\n",
       "      <th>creator</th>\n",
       "      <th>subject-phrase</th>\n",
       "      <th>title</th>\n",
       "      <th>type</th>\n",
       "      <th>counts</th>\n",
       "    </tr>\n",
       "  </thead>\n",
       "  <tbody>\n",
       "    <tr>\n",
       "      <th>870970-basis:28511663</th>\n",
       "      <td>[\"sk\",86.0]</td>\n",
       "      <td>Krimi. Carl Mørck, leder af politiets afdeling...</td>\n",
       "      <td>Jussi Adler-Olsen</td>\n",
       "      <td>[\"sk\",\"2000-2009\",\"politiromaner\",\"1980-1989\",...</td>\n",
       "      <td>Journal 64 : krimithriller</td>\n",
       "      <td>book</td>\n",
       "      <td>34518</td>\n",
       "    </tr>\n",
       "    <tr>\n",
       "      <th>870970-basis:29494940</th>\n",
       "      <td>[\"sk\",83.0]</td>\n",
       "      <td>E.L. James pseudonym for Erika Leonard</td>\n",
       "      <td>E. L. James</td>\n",
       "      <td>[\"sk\",\"USA\",\"sex\",\"forelskelse\",\"sadomasochism...</td>\n",
       "      <td>Fifty shades</td>\n",
       "      <td>book</td>\n",
       "      <td>33851</td>\n",
       "    </tr>\n",
       "    <tr>\n",
       "      <th>870970-basis:29754519</th>\n",
       "      <td>[\"sk\",86.0]</td>\n",
       "      <td>NaN</td>\n",
       "      <td>Jussi Adler-Olsen</td>\n",
       "      <td>[\"sk\",\"Skønlitteratur\"]</td>\n",
       "      <td>Marco effekten : krimithriller</td>\n",
       "      <td>book</td>\n",
       "      <td>32619</td>\n",
       "    </tr>\n",
       "    <tr>\n",
       "      <th>870970-basis:25683463</th>\n",
       "      <td>[77.74]</td>\n",
       "      <td>NaN</td>\n",
       "      <td>Claus Bue</td>\n",
       "      <td>[\"for 4 år\",\"børnefilm\",\"for 3 år\",\"77.74\",\"fo...</td>\n",
       "      <td>Bamses billedbog dvd</td>\n",
       "      <td>movie</td>\n",
       "      <td>29895</td>\n",
       "    </tr>\n",
       "    <tr>\n",
       "      <th>870970-basis:29060835</th>\n",
       "      <td>[\"sk\",86.0]</td>\n",
       "      <td>Krimi. Louise Rick er nu leder af Den Særlige ...</td>\n",
       "      <td>Sara Blædel</td>\n",
       "      <td>[\"sk\",\"psykisk udviklingshæmmede\",\"Skønlittera...</td>\n",
       "      <td>De glemte piger : krimi</td>\n",
       "      <td>book</td>\n",
       "      <td>29781</td>\n",
       "    </tr>\n",
       "  </tbody>\n",
       "</table>\n",
       "</div>"
      ],
      "text/plain": [
       "                               dk5  \\\n",
       "870970-basis:28511663  [\"sk\",86.0]   \n",
       "870970-basis:29494940  [\"sk\",83.0]   \n",
       "870970-basis:29754519  [\"sk\",86.0]   \n",
       "870970-basis:25683463      [77.74]   \n",
       "870970-basis:29060835  [\"sk\",86.0]   \n",
       "\n",
       "                                                             description  \\\n",
       "870970-basis:28511663  Krimi. Carl Mørck, leder af politiets afdeling...   \n",
       "870970-basis:29494940             E.L. James pseudonym for Erika Leonard   \n",
       "870970-basis:29754519                                                NaN   \n",
       "870970-basis:25683463                                                NaN   \n",
       "870970-basis:29060835  Krimi. Louise Rick er nu leder af Den Særlige ...   \n",
       "\n",
       "                                 creator  \\\n",
       "870970-basis:28511663  Jussi Adler-Olsen   \n",
       "870970-basis:29494940        E. L. James   \n",
       "870970-basis:29754519  Jussi Adler-Olsen   \n",
       "870970-basis:25683463          Claus Bue   \n",
       "870970-basis:29060835        Sara Blædel   \n",
       "\n",
       "                                                          subject-phrase  \\\n",
       "870970-basis:28511663  [\"sk\",\"2000-2009\",\"politiromaner\",\"1980-1989\",...   \n",
       "870970-basis:29494940  [\"sk\",\"USA\",\"sex\",\"forelskelse\",\"sadomasochism...   \n",
       "870970-basis:29754519                            [\"sk\",\"Skønlitteratur\"]   \n",
       "870970-basis:25683463  [\"for 4 år\",\"børnefilm\",\"for 3 år\",\"77.74\",\"fo...   \n",
       "870970-basis:29060835  [\"sk\",\"psykisk udviklingshæmmede\",\"Skønlittera...   \n",
       "\n",
       "                                                title   type  counts  \n",
       "870970-basis:28511663      Journal 64 : krimithriller   book   34518  \n",
       "870970-basis:29494940                    Fifty shades   book   33851  \n",
       "870970-basis:29754519  Marco effekten : krimithriller   book   32619  \n",
       "870970-basis:25683463            Bamses billedbog dvd  movie   29895  \n",
       "870970-basis:29060835         De glemte piger : krimi   book   29781  "
      ]
     },
     "execution_count": 110,
     "metadata": {},
     "output_type": "execute_result"
    }
   ],
   "source": [
    "materials.head()"
   ]
  },
  {
   "cell_type": "code",
   "execution_count": 111,
   "metadata": {
    "collapsed": false
   },
   "outputs": [],
   "source": [
    "def counts_per_group(group, key, description):\n",
    "    counts = group.material_id.value_counts()\n",
    "    counts = pd.Series(counts, name='counts_{description}_{key}'.format(**locals()))\n",
    "    counts_df = pd.DataFrame(counts)\n",
    "    counts_df.index.name = 'material_id'\n",
    "    return counts_df\n",
    "\n",
    "def add_counts(grouping):\n",
    "    global materials\n",
    "    frames = [materials]\n",
    "    grouped = small_lending.groupby(grouping)\n",
    "    for key, group in grouped:\n",
    "        frame = counts_per_group(group, key, grouping)\n",
    "        frames.append(frame)\n",
    "    materials = pd.concat(frames, axis=1)\n"
   ]
  },
  {
   "cell_type": "code",
   "execution_count": 112,
   "metadata": {
    "collapsed": false
   },
   "outputs": [],
   "source": [
    "add_counts('gender')\n",
    "add_counts('age_decade')"
   ]
  },
  {
   "cell_type": "code",
   "execution_count": 113,
   "metadata": {
    "collapsed": false
   },
   "outputs": [
    {
     "data": {
      "text/html": [
       "<div>\n",
       "<table border=\"1\" class=\"dataframe\">\n",
       "  <thead>\n",
       "    <tr style=\"text-align: right;\">\n",
       "      <th></th>\n",
       "      <th>dk5</th>\n",
       "      <th>description</th>\n",
       "      <th>creator</th>\n",
       "      <th>subject-phrase</th>\n",
       "      <th>title</th>\n",
       "      <th>type</th>\n",
       "      <th>counts</th>\n",
       "      <th>counts_gender_k</th>\n",
       "      <th>counts_gender_m</th>\n",
       "      <th>counts_age_decade_-20.0</th>\n",
       "      <th>...</th>\n",
       "      <th>counts_age_decade_10.0</th>\n",
       "      <th>counts_age_decade_20.0</th>\n",
       "      <th>counts_age_decade_30.0</th>\n",
       "      <th>counts_age_decade_40.0</th>\n",
       "      <th>counts_age_decade_50.0</th>\n",
       "      <th>counts_age_decade_60.0</th>\n",
       "      <th>counts_age_decade_70.0</th>\n",
       "      <th>counts_age_decade_80.0</th>\n",
       "      <th>counts_age_decade_90.0</th>\n",
       "      <th>counts_age_decade_100.0</th>\n",
       "    </tr>\n",
       "  </thead>\n",
       "  <tbody>\n",
       "    <tr>\n",
       "      <th>870970-basis:28511663</th>\n",
       "      <td>[\"sk\",86.0]</td>\n",
       "      <td>Krimi. Carl Mørck, leder af politiets afdeling...</td>\n",
       "      <td>Jussi Adler-Olsen</td>\n",
       "      <td>[\"sk\",\"2000-2009\",\"politiromaner\",\"1980-1989\",...</td>\n",
       "      <td>Journal 64 : krimithriller</td>\n",
       "      <td>book</td>\n",
       "      <td>34518</td>\n",
       "      <td>24508</td>\n",
       "      <td>9890</td>\n",
       "      <td>NaN</td>\n",
       "      <td>...</td>\n",
       "      <td>666</td>\n",
       "      <td>1837</td>\n",
       "      <td>3726</td>\n",
       "      <td>7044</td>\n",
       "      <td>6667</td>\n",
       "      <td>7819</td>\n",
       "      <td>4946</td>\n",
       "      <td>1429</td>\n",
       "      <td>149</td>\n",
       "      <td>5</td>\n",
       "    </tr>\n",
       "    <tr>\n",
       "      <th>870970-basis:29494940</th>\n",
       "      <td>[\"sk\",83.0]</td>\n",
       "      <td>E.L. James pseudonym for Erika Leonard</td>\n",
       "      <td>E. L. James</td>\n",
       "      <td>[\"sk\",\"USA\",\"sex\",\"forelskelse\",\"sadomasochism...</td>\n",
       "      <td>Fifty shades</td>\n",
       "      <td>book</td>\n",
       "      <td>33851</td>\n",
       "      <td>30753</td>\n",
       "      <td>3003</td>\n",
       "      <td>NaN</td>\n",
       "      <td>...</td>\n",
       "      <td>3412</td>\n",
       "      <td>6359</td>\n",
       "      <td>6257</td>\n",
       "      <td>8218</td>\n",
       "      <td>4509</td>\n",
       "      <td>2946</td>\n",
       "      <td>1534</td>\n",
       "      <td>348</td>\n",
       "      <td>30</td>\n",
       "      <td>NaN</td>\n",
       "    </tr>\n",
       "    <tr>\n",
       "      <th>870970-basis:29754519</th>\n",
       "      <td>[\"sk\",86.0]</td>\n",
       "      <td>NaN</td>\n",
       "      <td>Jussi Adler-Olsen</td>\n",
       "      <td>[\"sk\",\"Skønlitteratur\"]</td>\n",
       "      <td>Marco effekten : krimithriller</td>\n",
       "      <td>book</td>\n",
       "      <td>32619</td>\n",
       "      <td>23209</td>\n",
       "      <td>9343</td>\n",
       "      <td>NaN</td>\n",
       "      <td>...</td>\n",
       "      <td>482</td>\n",
       "      <td>1528</td>\n",
       "      <td>3430</td>\n",
       "      <td>6779</td>\n",
       "      <td>6541</td>\n",
       "      <td>7391</td>\n",
       "      <td>4884</td>\n",
       "      <td>1272</td>\n",
       "      <td>146</td>\n",
       "      <td>3</td>\n",
       "    </tr>\n",
       "    <tr>\n",
       "      <th>870970-basis:25683463</th>\n",
       "      <td>[77.74]</td>\n",
       "      <td>NaN</td>\n",
       "      <td>Claus Bue</td>\n",
       "      <td>[\"for 4 år\",\"børnefilm\",\"for 3 år\",\"77.74\",\"fo...</td>\n",
       "      <td>Bamses billedbog dvd</td>\n",
       "      <td>movie</td>\n",
       "      <td>29895</td>\n",
       "      <td>20730</td>\n",
       "      <td>8859</td>\n",
       "      <td>NaN</td>\n",
       "      <td>...</td>\n",
       "      <td>1792</td>\n",
       "      <td>3294</td>\n",
       "      <td>12881</td>\n",
       "      <td>5181</td>\n",
       "      <td>1377</td>\n",
       "      <td>1755</td>\n",
       "      <td>385</td>\n",
       "      <td>14</td>\n",
       "      <td>NaN</td>\n",
       "      <td>NaN</td>\n",
       "    </tr>\n",
       "    <tr>\n",
       "      <th>870970-basis:29060835</th>\n",
       "      <td>[\"sk\",86.0]</td>\n",
       "      <td>Krimi. Louise Rick er nu leder af Den Særlige ...</td>\n",
       "      <td>Sara Blædel</td>\n",
       "      <td>[\"sk\",\"psykisk udviklingshæmmede\",\"Skønlittera...</td>\n",
       "      <td>De glemte piger : krimi</td>\n",
       "      <td>book</td>\n",
       "      <td>29781</td>\n",
       "      <td>23924</td>\n",
       "      <td>5765</td>\n",
       "      <td>NaN</td>\n",
       "      <td>...</td>\n",
       "      <td>597</td>\n",
       "      <td>1048</td>\n",
       "      <td>2499</td>\n",
       "      <td>5291</td>\n",
       "      <td>5732</td>\n",
       "      <td>7370</td>\n",
       "      <td>5178</td>\n",
       "      <td>1663</td>\n",
       "      <td>225</td>\n",
       "      <td>5</td>\n",
       "    </tr>\n",
       "  </tbody>\n",
       "</table>\n",
       "<p>5 rows × 21 columns</p>\n",
       "</div>"
      ],
      "text/plain": [
       "                               dk5  \\\n",
       "870970-basis:28511663  [\"sk\",86.0]   \n",
       "870970-basis:29494940  [\"sk\",83.0]   \n",
       "870970-basis:29754519  [\"sk\",86.0]   \n",
       "870970-basis:25683463      [77.74]   \n",
       "870970-basis:29060835  [\"sk\",86.0]   \n",
       "\n",
       "                                                             description  \\\n",
       "870970-basis:28511663  Krimi. Carl Mørck, leder af politiets afdeling...   \n",
       "870970-basis:29494940             E.L. James pseudonym for Erika Leonard   \n",
       "870970-basis:29754519                                                NaN   \n",
       "870970-basis:25683463                                                NaN   \n",
       "870970-basis:29060835  Krimi. Louise Rick er nu leder af Den Særlige ...   \n",
       "\n",
       "                                 creator  \\\n",
       "870970-basis:28511663  Jussi Adler-Olsen   \n",
       "870970-basis:29494940        E. L. James   \n",
       "870970-basis:29754519  Jussi Adler-Olsen   \n",
       "870970-basis:25683463          Claus Bue   \n",
       "870970-basis:29060835        Sara Blædel   \n",
       "\n",
       "                                                          subject-phrase  \\\n",
       "870970-basis:28511663  [\"sk\",\"2000-2009\",\"politiromaner\",\"1980-1989\",...   \n",
       "870970-basis:29494940  [\"sk\",\"USA\",\"sex\",\"forelskelse\",\"sadomasochism...   \n",
       "870970-basis:29754519                            [\"sk\",\"Skønlitteratur\"]   \n",
       "870970-basis:25683463  [\"for 4 år\",\"børnefilm\",\"for 3 år\",\"77.74\",\"fo...   \n",
       "870970-basis:29060835  [\"sk\",\"psykisk udviklingshæmmede\",\"Skønlittera...   \n",
       "\n",
       "                                                title   type  counts  \\\n",
       "870970-basis:28511663      Journal 64 : krimithriller   book   34518   \n",
       "870970-basis:29494940                    Fifty shades   book   33851   \n",
       "870970-basis:29754519  Marco effekten : krimithriller   book   32619   \n",
       "870970-basis:25683463            Bamses billedbog dvd  movie   29895   \n",
       "870970-basis:29060835         De glemte piger : krimi   book   29781   \n",
       "\n",
       "                       counts_gender_k  counts_gender_m  \\\n",
       "870970-basis:28511663            24508             9890   \n",
       "870970-basis:29494940            30753             3003   \n",
       "870970-basis:29754519            23209             9343   \n",
       "870970-basis:25683463            20730             8859   \n",
       "870970-basis:29060835            23924             5765   \n",
       "\n",
       "                       counts_age_decade_-20.0           ...             \\\n",
       "870970-basis:28511663                      NaN           ...              \n",
       "870970-basis:29494940                      NaN           ...              \n",
       "870970-basis:29754519                      NaN           ...              \n",
       "870970-basis:25683463                      NaN           ...              \n",
       "870970-basis:29060835                      NaN           ...              \n",
       "\n",
       "                       counts_age_decade_10.0  counts_age_decade_20.0  \\\n",
       "870970-basis:28511663                     666                    1837   \n",
       "870970-basis:29494940                    3412                    6359   \n",
       "870970-basis:29754519                     482                    1528   \n",
       "870970-basis:25683463                    1792                    3294   \n",
       "870970-basis:29060835                     597                    1048   \n",
       "\n",
       "                       counts_age_decade_30.0  counts_age_decade_40.0  \\\n",
       "870970-basis:28511663                    3726                    7044   \n",
       "870970-basis:29494940                    6257                    8218   \n",
       "870970-basis:29754519                    3430                    6779   \n",
       "870970-basis:25683463                   12881                    5181   \n",
       "870970-basis:29060835                    2499                    5291   \n",
       "\n",
       "                       counts_age_decade_50.0  counts_age_decade_60.0  \\\n",
       "870970-basis:28511663                    6667                    7819   \n",
       "870970-basis:29494940                    4509                    2946   \n",
       "870970-basis:29754519                    6541                    7391   \n",
       "870970-basis:25683463                    1377                    1755   \n",
       "870970-basis:29060835                    5732                    7370   \n",
       "\n",
       "                       counts_age_decade_70.0  counts_age_decade_80.0  \\\n",
       "870970-basis:28511663                    4946                    1429   \n",
       "870970-basis:29494940                    1534                     348   \n",
       "870970-basis:29754519                    4884                    1272   \n",
       "870970-basis:25683463                     385                      14   \n",
       "870970-basis:29060835                    5178                    1663   \n",
       "\n",
       "                       counts_age_decade_90.0  counts_age_decade_100.0  \n",
       "870970-basis:28511663                     149                        5  \n",
       "870970-basis:29494940                      30                      NaN  \n",
       "870970-basis:29754519                     146                        3  \n",
       "870970-basis:25683463                     NaN                      NaN  \n",
       "870970-basis:29060835                     225                        5  \n",
       "\n",
       "[5 rows x 21 columns]"
      ]
     },
     "execution_count": 113,
     "metadata": {},
     "output_type": "execute_result"
    }
   ],
   "source": [
    "materials.sort_values(by='counts', inplace=True, ascending=False)\n",
    "materials.head()"
   ]
  },
  {
   "cell_type": "markdown",
   "metadata": {},
   "source": [
    "TODO: How many books take up the top 10, 25 and 50 % of the lending?"
   ]
  },
  {
   "cell_type": "markdown",
   "metadata": {},
   "source": [
    "# What books are popular in each demographic?\n",
    "\n",
    "TODO: Intro"
   ]
  },
  {
   "cell_type": "code",
   "execution_count": null,
   "metadata": {
    "collapsed": false
   },
   "outputs": [],
   "source": [
    "teen_boys = small_lending[(10 < small_lending.age) & (small_lending.age < 20) & (small_lending.gender == 'm')]"
   ]
  },
  {
   "cell_type": "code",
   "execution_count": null,
   "metadata": {
    "collapsed": false
   },
   "outputs": [],
   "source": [
    "teen_boys = teen_boys.sort_values('freq', ascending=False)\n",
    "teen_boys.head()"
   ]
  }
 ],
 "metadata": {
  "kernelspec": {
   "display_name": "Python 2",
   "language": "python",
   "name": "python2"
  },
  "language_info": {
   "codemirror_mode": {
    "name": "ipython",
    "version": 2
   },
   "file_extension": ".py",
   "mimetype": "text/x-python",
   "name": "python",
   "nbconvert_exporter": "python",
   "pygments_lexer": "ipython2",
   "version": "2.7.10"
  }
 },
 "nbformat": 4,
 "nbformat_minor": 0
}
