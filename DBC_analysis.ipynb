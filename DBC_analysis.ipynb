{
 "cells": [
  {
   "cell_type": "markdown",
   "metadata": {},
   "source": [
    "# Danish Library Exploratory Analysis\n",
    "By Kasper Primdal Lauritzen\n",
    "\n",
    "Data from [DBC](http://www.dbc.dk/news/hack-dbcs-data)"
   ]
  },
  {
   "cell_type": "code",
   "execution_count": 4,
   "metadata": {
    "collapsed": true
   },
   "outputs": [],
   "source": [
    "import numpy as np\n",
    "import pandas as pd\n",
    "import os\n",
    "import matplotlib.pyplot as plt\n",
    "%matplotlib inline"
   ]
  },
  {
   "cell_type": "markdown",
   "metadata": {},
   "source": [
    "I want to read a rather large data set, but the exploratory analysis is better done on a small subset of the full data set. We'll use 1 % of the full set initially"
   ]
  },
  {
   "cell_type": "code",
   "execution_count": 5,
   "metadata": {
    "collapsed": false
   },
   "outputs": [
    {
     "name": "stdout",
     "output_type": "stream",
     "text": [
      "reading small data set from disk\n"
     ]
    }
   ],
   "source": [
    "cols = [\"user_id\", \"library_id\", \"material_id\", \"gender\", \"birth_year\", \"date\"]\n",
    "if os.path.isfile(\"small_udlånsdata.csv\"):\n",
    "    print \"reading small data set from disk\"\n",
    "    small_lending = pd.read_csv(\"small_udlånsdata.csv\", parse_dates=[5, 6],\n",
    "                               na_values=\"\", index_col=0)\n",
    "else:\n",
    "    print \"reading large data set from disk\"\n",
    "    lending_data = pd.read_csv(\"udlånsdata.csv\", parse_dates=[4,5],\n",
    "                               na_values=\"\", names = cols)\n",
    "    small_lending = lending_data.sample(frac=0.01)\n",
    "    print \"writing small data set to disk\"\n",
    "    small_lending.to_csv(\"small_udlånsdata.csv\")"
   ]
  },
  {
   "cell_type": "markdown",
   "metadata": {},
   "source": [
    "So how does this look?"
   ]
  },
  {
   "cell_type": "code",
   "execution_count": 6,
   "metadata": {
    "collapsed": false
   },
   "outputs": [
    {
     "data": {
      "text/html": [
       "<div>\n",
       "<table border=\"1\" class=\"dataframe\">\n",
       "  <thead>\n",
       "    <tr style=\"text-align: right;\">\n",
       "      <th></th>\n",
       "      <th>user_id</th>\n",
       "      <th>library_id</th>\n",
       "      <th>material_id</th>\n",
       "      <th>gender</th>\n",
       "      <th>birth_year</th>\n",
       "      <th>date</th>\n",
       "    </tr>\n",
       "  </thead>\n",
       "  <tbody>\n",
       "    <tr>\n",
       "      <th>35489990</th>\n",
       "      <td>618173</td>\n",
       "      <td>765700</td>\n",
       "      <td>870970-basis:25696484</td>\n",
       "      <td>k</td>\n",
       "      <td>1951-01-01</td>\n",
       "      <td>2014-04-02</td>\n",
       "    </tr>\n",
       "    <tr>\n",
       "      <th>19227129</th>\n",
       "      <td>352880</td>\n",
       "      <td>786000</td>\n",
       "      <td>870970-basis:28476604</td>\n",
       "      <td>k</td>\n",
       "      <td>1974-01-01</td>\n",
       "      <td>2011-09-26</td>\n",
       "    </tr>\n",
       "    <tr>\n",
       "      <th>8217857</th>\n",
       "      <td>169141</td>\n",
       "      <td>778700</td>\n",
       "      <td>870970-basis:28204760</td>\n",
       "      <td>k</td>\n",
       "      <td>1958-01-01</td>\n",
       "      <td>2010-09-22</td>\n",
       "    </tr>\n",
       "    <tr>\n",
       "      <th>14469267</th>\n",
       "      <td>410457</td>\n",
       "      <td>761500</td>\n",
       "      <td>870970-basis:26717981</td>\n",
       "      <td>k</td>\n",
       "      <td>1982-01-01</td>\n",
       "      <td>2010-01-08</td>\n",
       "    </tr>\n",
       "    <tr>\n",
       "      <th>30046112</th>\n",
       "      <td>147504</td>\n",
       "      <td>773000</td>\n",
       "      <td>870970-basis:27195571</td>\n",
       "      <td>k</td>\n",
       "      <td>1976-01-01</td>\n",
       "      <td>2014-04-22</td>\n",
       "    </tr>\n",
       "  </tbody>\n",
       "</table>\n",
       "</div>"
      ],
      "text/plain": [
       "          user_id  library_id            material_id gender birth_year  \\\n",
       "35489990   618173      765700  870970-basis:25696484      k 1951-01-01   \n",
       "19227129   352880      786000  870970-basis:28476604      k 1974-01-01   \n",
       "8217857    169141      778700  870970-basis:28204760      k 1958-01-01   \n",
       "14469267   410457      761500  870970-basis:26717981      k 1982-01-01   \n",
       "30046112   147504      773000  870970-basis:27195571      k 1976-01-01   \n",
       "\n",
       "               date  \n",
       "35489990 2014-04-02  \n",
       "19227129 2011-09-26  \n",
       "8217857  2010-09-22  \n",
       "14469267 2010-01-08  \n",
       "30046112 2014-04-22  "
      ]
     },
     "execution_count": 6,
     "metadata": {},
     "output_type": "execute_result"
    }
   ],
   "source": [
    "small_lending.head()"
   ]
  },
  {
   "cell_type": "markdown",
   "metadata": {},
   "source": [
    "Lets get the age of each user at the time of the recording. Pandas uses timedelta"
   ]
  },
  {
   "cell_type": "code",
   "execution_count": 7,
   "metadata": {
    "collapsed": false
   },
   "outputs": [],
   "source": [
    "def days_to_years(delta):\n",
    "    return delta.days/365\n",
    "\n",
    "age_in_days = small_lending.date - small_lending.birth_year\n",
    "age_in_years = age_in_days.apply(lambda x: round(x / np.timedelta64(365, 'D')))\n",
    "small_lending['age'] = age_in_years"
   ]
  },
  {
   "cell_type": "markdown",
   "metadata": {},
   "source": [
    "OK, lets do some summary statistics on this. We'll group it by gender and age, and see how many transactions was made for each of these combinations."
   ]
  },
  {
   "cell_type": "code",
   "execution_count": 8,
   "metadata": {
    "collapsed": false
   },
   "outputs": [
    {
     "data": {
      "text/plain": [
       "<matplotlib.text.Text at 0x10f583a10>"
      ]
     },
     "execution_count": 8,
     "metadata": {},
     "output_type": "execute_result"
    },
    {
     "data": {
      "image/png": "[encoded data removed]",
      "text/plain": [
       "<matplotlib.figure.Figure at 0x13b49e790>"
      ]
     },
     "metadata": {},
     "output_type": "display_data"
    }
   ],
   "source": [
    "age_gender = pd.crosstab( small_lending.age, small_lending.gender)\n",
    "ax = age_gender.plot()\n",
    "ax.set_ylabel(\"Counts\")"
   ]
  },
  {
   "cell_type": "markdown",
   "metadata": {},
   "source": [
    "Let's look at the relative frequencies by age."
   ]
  },
  {
   "cell_type": "code",
   "execution_count": 9,
   "metadata": {
    "collapsed": false
   },
   "outputs": [
    {
     "data": {
      "text/plain": [
       "<matplotlib.text.Text at 0x206478750>"
      ]
     },
     "execution_count": 9,
     "metadata": {},
     "output_type": "execute_result"
    },
    {
     "data": {
      "image/png": "[encoded data removed]",
      "text/plain": [
       "<matplotlib.figure.Figure at 0x1f8ed5050>"
      ]
     },
     "metadata": {},
     "output_type": "display_data"
    }
   ],
   "source": [
    "age_gender_pct = age_gender.div(age_gender.sum(0))\n",
    "ax = age_gender_pct.plot()\n",
    "ax.set_ylabel(\"Frequency\")"
   ]
  },
  {
   "cell_type": "markdown",
   "metadata": {},
   "source": [
    "It seems teenage boys are more likely than teenage girls to go to the library. What do they get out? First, let's get the frequency that each book is borrowed."
   ]
  },
  {
   "cell_type": "code",
   "execution_count": 10,
   "metadata": {
    "collapsed": false
   },
   "outputs": [],
   "source": [
    "total_records = float(small_lending.count().user_id)\n",
    "counts = small_lending['material_id'].value_counts()\n",
    "freqs = counts/float(total_records)\n",
    "small_lending['freq']= freqs[small_lending.material_id].values"
   ]
  },
  {
   "cell_type": "markdown",
   "metadata": {},
   "source": [
    "How many books take up the top 10, 25 and 50 % of the lending?"
   ]
  },
  {
   "cell_type": "code",
   "execution_count": 15,
   "metadata": {
    "collapsed": false
   },
   "outputs": [
    {
     "name": "stdout",
     "output_type": "stream",
     "text": [
      "[  578  3048 12579]\n"
     ]
    },
    {
     "data": {
      "text/plain": [
       "0.031461403644510527"
      ]
     },
     "execution_count": 15,
     "metadata": {},
     "output_type": "execute_result"
    },
    {
     "data": {
      "image/png": "[encoded data removed]",
      "text/plain": [
       "<matplotlib.figure.Figure at 0x14d2c7b10>"
      ]
     },
     "metadata": {},
     "output_type": "display_data"
    }
   ],
   "source": [
    "freqs.sort(ascending=False)\n",
    "summed = freqs.cumsum()\n",
    "ax = summed.plot()\n",
    "print summed.searchsorted([0.1, 0.25, 0.5])\n",
    "summed[100]"
   ]
  },
  {
   "cell_type": "markdown",
   "metadata": {},
   "source": [
    "So the top 578 books account for 10% of all borrowing! And the top 100 books account for 3%. Huh. "
   ]
  },
  {
   "cell_type": "code",
   "execution_count": 12,
   "metadata": {
    "collapsed": false
   },
   "outputs": [],
   "source": [
    "teen_boys = small_lending[(10 < small_lending.age) & (small_lending.age < 20) & (small_lending.gender == 'm')]"
   ]
  },
  {
   "cell_type": "code",
   "execution_count": 13,
   "metadata": {
    "collapsed": false
   },
   "outputs": [
    {
     "data": {
      "text/html": [
       "<div>\n",
       "<table border=\"1\" class=\"dataframe\">\n",
       "  <thead>\n",
       "    <tr style=\"text-align: right;\">\n",
       "      <th></th>\n",
       "      <th>user_id</th>\n",
       "      <th>library_id</th>\n",
       "      <th>material_id</th>\n",
       "      <th>gender</th>\n",
       "      <th>birth_year</th>\n",
       "      <th>date</th>\n",
       "      <th>age</th>\n",
       "      <th>freq</th>\n",
       "    </tr>\n",
       "  </thead>\n",
       "  <tbody>\n",
       "    <tr>\n",
       "      <th>54569224</th>\n",
       "      <td>101559</td>\n",
       "      <td>718700</td>\n",
       "      <td>870970-basis:29494940</td>\n",
       "      <td>m</td>\n",
       "      <td>2003-01-01</td>\n",
       "      <td>2015-01-19</td>\n",
       "      <td>12</td>\n",
       "      <td>0.000611</td>\n",
       "    </tr>\n",
       "    <tr>\n",
       "      <th>54774570</th>\n",
       "      <td>1057038</td>\n",
       "      <td>733000</td>\n",
       "      <td>870970-basis:29494940</td>\n",
       "      <td>m</td>\n",
       "      <td>2003-01-01</td>\n",
       "      <td>2015-02-13</td>\n",
       "      <td>12</td>\n",
       "      <td>0.000611</td>\n",
       "    </tr>\n",
       "    <tr>\n",
       "      <th>50593986</th>\n",
       "      <td>761457</td>\n",
       "      <td>710100</td>\n",
       "      <td>870970-basis:28511663</td>\n",
       "      <td>m</td>\n",
       "      <td>1998-01-01</td>\n",
       "      <td>2014-11-20</td>\n",
       "      <td>17</td>\n",
       "      <td>0.000609</td>\n",
       "    </tr>\n",
       "    <tr>\n",
       "      <th>47364773</th>\n",
       "      <td>600545</td>\n",
       "      <td>779100</td>\n",
       "      <td>870970-basis:29754519</td>\n",
       "      <td>m</td>\n",
       "      <td>2004-01-01</td>\n",
       "      <td>2014-08-14</td>\n",
       "      <td>11</td>\n",
       "      <td>0.000558</td>\n",
       "    </tr>\n",
       "    <tr>\n",
       "      <th>17655399</th>\n",
       "      <td>479376</td>\n",
       "      <td>737600</td>\n",
       "      <td>870970-basis:25683463</td>\n",
       "      <td>m</td>\n",
       "      <td>2001-01-01</td>\n",
       "      <td>2011-08-11</td>\n",
       "      <td>11</td>\n",
       "      <td>0.000500</td>\n",
       "    </tr>\n",
       "  </tbody>\n",
       "</table>\n",
       "</div>"
      ],
      "text/plain": [
       "          user_id  library_id            material_id gender birth_year  \\\n",
       "54569224   101559      718700  870970-basis:29494940      m 2003-01-01   \n",
       "54774570  1057038      733000  870970-basis:29494940      m 2003-01-01   \n",
       "50593986   761457      710100  870970-basis:28511663      m 1998-01-01   \n",
       "47364773   600545      779100  870970-basis:29754519      m 2004-01-01   \n",
       "17655399   479376      737600  870970-basis:25683463      m 2001-01-01   \n",
       "\n",
       "               date  age      freq  \n",
       "54569224 2015-01-19   12  0.000611  \n",
       "54774570 2015-02-13   12  0.000611  \n",
       "50593986 2014-11-20   17  0.000609  \n",
       "47364773 2014-08-14   11  0.000558  \n",
       "17655399 2011-08-11   11  0.000500  "
      ]
     },
     "execution_count": 13,
     "metadata": {},
     "output_type": "execute_result"
    }
   ],
   "source": [
    "teen_boys = teen_boys.sort('freq', ascending=False)\n",
    "teen_boys.head()"
   ]
  },
  {
   "cell_type": "code",
   "execution_count": null,
   "metadata": {
    "collapsed": true
   },
   "outputs": [],
   "source": []
  }
 ],
 "metadata": {
  "kernelspec": {
   "display_name": "Python 2",
   "language": "python",
   "name": "python2"
  },
  "language_info": {
   "codemirror_mode": {
    "name": "ipython",
    "version": 2
   },
   "file_extension": ".py",
   "mimetype": "text/x-python",
   "name": "python",
   "nbconvert_exporter": "python",
   "pygments_lexer": "ipython2",
   "version": "2.7.10"
  }
 },
 "nbformat": 4,
 "nbformat_minor": 0
}
